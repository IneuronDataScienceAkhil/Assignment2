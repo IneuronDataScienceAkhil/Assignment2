{
 "cells": [
  {
   "cell_type": "markdown",
   "id": "8f573a1a",
   "metadata": {},
   "source": [
    "1.What are the two values of the Boolean data type? How do you write them?\n",
    "\n",
    "Ans:-The Two values of Boolean data types are \"True\" and \"False\".In Mathmatical way true can be written as 1 and \n",
    "        False can be written as 0\n",
    "        \n",
    "        Boolean Can be written as True and False\n",
    "        Ex=>> print(10>6) it return \"True\"\n",
    "              print(6>19) it return \"False\""
   ]
  },
  {
   "cell_type": "markdown",
   "id": "bca0c036",
   "metadata": {},
   "source": [
    "2.What are the three different types of Boolean operators?\n",
    "\n",
    "Ans:- The Three Types of boolean operators are 1.\"and\" 2.\"or\" 3. \"not\""
   ]
  },
  {
   "cell_type": "markdown",
   "id": "524080d6",
   "metadata": {},
   "source": [
    "3. Make a list of each Boolean operator truth tables (i.e. every possible combination of Boolean\n",
    "    values for the operator and what it evaluate )\n",
    " Ans:- \n",
    "             (and)\n",
    "       True and True return True \n",
    "       True and False return False\n",
    "       False and True return False\n",
    "       False and False return False\n",
    "       \n",
    "             (or)     \n",
    "       True or True return True \n",
    "       True or False return True\n",
    "       False or True return True\n",
    "       False or False return False\n",
    "             \n",
    "       \n",
    "       \n",
    "       \n",
    "  "
   ]
  },
  {
   "cell_type": "markdown",
   "id": "3295e099",
   "metadata": {},
   "source": [
    "4. What are the values of the following expressions?\n",
    "    (5 > 4) and (3 == 5) Ans-> Fasle\n",
    "    \n",
    "    not(5 > 4) Ans:- False\n",
    "    \n",
    "    (5 > 4) or (3 == 5)  Ans- True\n",
    "    \n",
    "    not ((5 > 4) or (3 == 5)) Ans- False\n",
    "    \n",
    "    (True and True) and (True == False)\n",
    "    \n",
    "    (not False) or (not True)  True"
   ]
  },
  {
   "cell_type": "markdown",
   "id": "aeb17c38",
   "metadata": {},
   "source": [
    "5.What are the six comparison operators?\n",
    "\n",
    "Ans-The Six comparison operators are:-\n",
    "\n",
    "    1. Less than(<) \n",
    "    \n",
    "    2. Greater than(>)\n",
    "    \n",
    "    3. Less than or equal to(<=)\n",
    "    \n",
    "    4. Greater than or equal to(>=)\n",
    "    \n",
    "    5. Equal to(==) \n",
    "    \n",
    "    6. Not equal to (!=)"
   ]
  },
  {
   "cell_type": "markdown",
   "id": "dc078471",
   "metadata": {},
   "source": [
    "6. How do you tell the difference between the equal to and assignment operators?Describe a\n",
    "   condition and when you would use one.\n",
    "\n",
    "Ans:- Equal is used to Compare the two value if two value is \n",
    "    \n",
    "      Equal then it return True Otherwise it return False.Denoted by (==)\n",
    "      \n",
    "   Assigmnent operator:\n",
    "        \n",
    "        Assignment Operator is used for assigning the value to any variable \n",
    "        \n",
    "        It's denoted by (=)\n",
    "    "
   ]
  },
  {
   "cell_type": "markdown",
   "id": "5110a69d",
   "metadata": {},
   "source": [
    "7. Identify the three blocks in this code:\n",
    "    spam = 0\n",
    "    if spam == 10:\n",
    "        print('eggs')\n",
    "    if spam>5:\n",
    "        print(\"bacon\")\n",
    "    else:\n",
    "        print(\"ham\")\n",
    "        print(\"spam\")\n",
    "        print(\"spam\")\n",
    "        \n",
    "     ANS:-The first block is \n",
    "     \n",
    "         if spam == 10:\n",
    "             print('eggs')\n",
    "       \n",
    "       The Second blocks is :\n",
    "       \n",
    "         if spam>5:\n",
    "             print(\"bacon\")\n",
    "        \n",
    "        The Third block is :\n",
    "        else:\n",
    "            print(\"ham\")\n",
    "            print(\"spam\")\n",
    "            print(\"spam\")\n",
    "        \n",
    "        \n",
    "        "
   ]
  },
  {
   "cell_type": "markdown",
   "id": "40e1f0a0",
   "metadata": {},
   "source": [
    "8. Write code that prints Hello if 1 is stored in spam, prints Howdy if 2 is stored in spam, and prints\n",
    "    Greetings! if anything else is stored in spam.\n",
    "    \n",
    "Ans:\n",
    "if spam==1:\n",
    "\n",
    "    print(\"Hello\")\n",
    "    \n",
    "elif spam==2:\n",
    "\n",
    "    print(\"Howdy\")\n",
    "else:\n",
    "\n",
    "    print(\"Greeting\")"
   ]
  },
  {
   "cell_type": "markdown",
   "id": "4b137c79",
   "metadata": {},
   "source": [
    "9.If your programme is stuck in an endless loop, what keys you’ll press?\n",
    "\n",
    "Ans:-Ctrl+c  # in in visual studio and sublime.\n",
    "\n",
    "    And Click On Kernel And Click On Restart and Run all from the given Option(In Jupyter notebook)\n",
    "    "
   ]
  },
  {
   "cell_type": "markdown",
   "id": "dcad9c63",
   "metadata": {},
   "source": [
    "10. How can you tell the difference between break and continue?:\n",
    "\n",
    "Ans:- break And continue are the predefined keyword in python \n",
    "\n",
    "break: break keyword are used to break the entire At the certain given condition\n",
    "\n",
    "continue:-continue keyword are used to skip part of a loop when a condition is met."
   ]
  },
  {
   "cell_type": "code",
   "execution_count": 5,
   "id": "31d4f0a4",
   "metadata": {},
   "outputs": [
    {
     "name": "stdout",
     "output_type": "stream",
     "text": [
      "0\n",
      "1\n"
     ]
    }
   ],
   "source": [
    "for i in range(4):\n",
    "    if i==2:\n",
    "        break\n",
    "    print(i)"
   ]
  },
  {
   "cell_type": "code",
   "execution_count": 6,
   "id": "bd2a28f9",
   "metadata": {},
   "outputs": [
    {
     "name": "stdout",
     "output_type": "stream",
     "text": [
      "0\n",
      "1\n",
      "3\n"
     ]
    }
   ],
   "source": [
    "for i in range(4):\n",
    "    if i==2:\n",
    "        continue\n",
    "    print(i)"
   ]
  },
  {
   "cell_type": "markdown",
   "id": "35af260a",
   "metadata": {},
   "source": [
    "11. In a for loop, what is the difference between range(10), range(0, 10), and range(0, 10, 1)?\n",
    "\n",
    "Ans:-\n",
    "   There is no differce between the above three function\n",
    "   \n",
    "   when we give only one parameter to range .It automatically start with 0 and print untill the \n",
    "   \n",
    "   given parameter with the skip value is 1\n"
   ]
  },
  {
   "cell_type": "code",
   "execution_count": 20,
   "id": "a75af907",
   "metadata": {},
   "outputs": [
    {
     "name": "stdout",
     "output_type": "stream",
     "text": [
      "0 1 2 3 4 5 6 7 8 9 "
     ]
    }
   ],
   "source": [
    "for i in range(10):\n",
    "    print(i,end=\" \")\n"
   ]
  },
  {
   "cell_type": "code",
   "execution_count": 21,
   "id": "1ad5951a",
   "metadata": {},
   "outputs": [
    {
     "name": "stdout",
     "output_type": "stream",
     "text": [
      "0 1 2 3 4 5 6 7 8 9 "
     ]
    }
   ],
   "source": [
    "for i in range(0,10):\n",
    "    print(i,end=\" \")"
   ]
  },
  {
   "cell_type": "code",
   "execution_count": 18,
   "id": "d179dffa",
   "metadata": {},
   "outputs": [
    {
     "name": "stdout",
     "output_type": "stream",
     "text": [
      "0 1 2 3 4 5 6 7 8 9 "
     ]
    }
   ],
   "source": [
    "for i in range(0,10,1):\n",
    "    print(i,end=\" \")"
   ]
  },
  {
   "cell_type": "markdown",
   "id": "ce3e043d",
   "metadata": {},
   "source": [
    "12. Write a short program that prints the numbers 1 to 10 using a for loop. Then write an equivalent\n",
    "program that prints the numbers 1 to 10 using a while loop."
   ]
  },
  {
   "cell_type": "code",
   "execution_count": 23,
   "id": "f0f351a8",
   "metadata": {},
   "outputs": [
    {
     "name": "stdout",
     "output_type": "stream",
     "text": [
      "1 2 3 4 5 6 7 8 9 10 "
     ]
    }
   ],
   "source": [
    "# by using the for loop\n",
    "for i in range(1,11):\n",
    "    # printing the number from 1 to 10\n",
    "    print(i,end=\" \")"
   ]
  },
  {
   "cell_type": "code",
   "execution_count": 25,
   "id": "82052d85",
   "metadata": {},
   "outputs": [
    {
     "name": "stdout",
     "output_type": "stream",
     "text": [
      "1 2 3 4 5 6 7 8 9 10 "
     ]
    }
   ],
   "source": [
    "# By Using the while loop\n",
    "\n",
    "i=1 # initialize the value of i\n",
    "while i<11:   # condition in the while loop\n",
    "    print(i,end=\" \")\n",
    "    i+=1  # increment the value of i by 1 after every loop "
   ]
  },
  {
   "cell_type": "markdown",
   "id": "c41f3c5c",
   "metadata": {},
   "source": [
    "13. If you had a function named bacon() inside a module named spam, how would you call it after\n",
    "importing spam?\n",
    "\n",
    "Ans:\n",
    "\n",
    "from spam import bacon  # importing the bacon function from the spam module "
   ]
  },
  {
   "cell_type": "code",
   "execution_count": null,
   "id": "bb43251e",
   "metadata": {},
   "outputs": [],
   "source": []
  }
 ],
 "metadata": {
  "kernelspec": {
   "display_name": "Python 3 (ipykernel)",
   "language": "python",
   "name": "python3"
  },
  "language_info": {
   "codemirror_mode": {
    "name": "ipython",
    "version": 3
   },
   "file_extension": ".py",
   "mimetype": "text/x-python",
   "name": "python",
   "nbconvert_exporter": "python",
   "pygments_lexer": "ipython3",
   "version": "3.9.7"
  }
 },
 "nbformat": 4,
 "nbformat_minor": 5
}
